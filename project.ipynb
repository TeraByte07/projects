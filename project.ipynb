{
 "cells": [
  {
   "cell_type": "markdown",
   "metadata": {},
   "source": [
    "# INSERTION OPERATION"
   ]
  },
  {
   "cell_type": "code",
   "execution_count": 7,
   "metadata": {},
   "outputs": [
    {
     "name": "stdout",
     "output_type": "stream",
     "text": [
      "['Nigeria', 'Ghana', 'Burkina Faso', 'Algeria', 'Niger']\n"
     ]
    }
   ],
   "source": [
    "#countries(list) before inserting of other values\n",
    "countries = [\"Nigeria\",\"Ghana\",\"Burkina Faso\",\"Algeria\",\"Niger\"]\n",
    "\n",
    "print(countries)"
   ]
  },
  {
   "cell_type": "code",
   "execution_count": 8,
   "metadata": {},
   "outputs": [
    {
     "name": "stdout",
     "output_type": "stream",
     "text": [
      "['Senagal', 'Nigeria', 'Ghana', 'Burkina Faso', 'Algeria', 'Niger']\n"
     ]
    }
   ],
   "source": [
    "#countries(list) after inserting of other values insert() function\n",
    "countries.insert(0,\"Senagal\")\n",
    "\n",
    "print(countries)"
   ]
  },
  {
   "cell_type": "code",
   "execution_count": 10,
   "metadata": {},
   "outputs": [
    {
     "name": "stdout",
     "output_type": "stream",
     "text": [
      "[1, 2, 3, 4, 5]\n"
     ]
    }
   ],
   "source": [
    "#number(list) before inserting of other values\n",
    "number = [1,2,3,4,5]\n",
    "print(number)"
   ]
  },
  {
   "cell_type": "code",
   "execution_count": 9,
   "metadata": {},
   "outputs": [
    {
     "name": "stdout",
     "output_type": "stream",
     "text": [
      "[1, 2, 3, 4, 5, 6, 6]\n"
     ]
    }
   ],
   "source": [
    "#number(list) after inserting of other values insert() function\n",
    "number.insert(5,6)\n",
    "print(number)"
   ]
  },
  {
   "cell_type": "code",
   "execution_count": 11,
   "metadata": {},
   "outputs": [
    {
     "name": "stdout",
     "output_type": "stream",
     "text": [
      "[True, True, True]\n"
     ]
    }
   ],
   "source": [
    "#bool(list) before inserting of other values\n",
    "bool = [True,True,True]\n",
    "print(bool)"
   ]
  },
  {
   "cell_type": "code",
   "execution_count": 6,
   "metadata": {},
   "outputs": [
    {
     "name": "stdout",
     "output_type": "stream",
     "text": [
      "[True, False, True, False, True, False]\n"
     ]
    }
   ],
   "source": [
    "#bool(list) after inserting of other values using the insert() function\n",
    "bool.insert(1,False)\n",
    "bool.insert(3,False)\n",
    "bool.insert(5,False)\n",
    "\n",
    "\n",
    "print(bool)"
   ]
  },
  {
   "cell_type": "markdown",
   "metadata": {},
   "source": [
    "# WAGES CALCULATOR"
   ]
  },
  {
   "cell_type": "code",
   "execution_count": 4,
   "metadata": {},
   "outputs": [
    {
     "name": "stdout",
     "output_type": "stream",
     "text": [
      "Sat\n"
     ]
    }
   ],
   "source": [
    "import datetime\n",
    "x = datetime.datetime.now()\n",
    "\n",
    "print(x.strftime(\"%a\"))"
   ]
  },
  {
   "cell_type": "code",
   "execution_count": 7,
   "metadata": {},
   "outputs": [
    {
     "name": "stdout",
     "output_type": "stream",
     "text": [
      "Hour active is 400\n",
      "Wages for the day is 80000\n"
     ]
    }
   ],
   "source": [
    "p = 200\n",
    "t = int(input(\"Enter hours of activity\"))\n",
    "w = p * t\n",
    "txt = \"Hour active is {}\"\n",
    "text = \"Wages for the day is {}\"\n",
    "print(txt.format(t))\n",
    "print(text.format(w))\n"
   ]
  },
  {
   "cell_type": "markdown",
   "metadata": {},
   "source": [
    "# GPA CALCULATOR"
   ]
  },
  {
   "cell_type": "code",
   "execution_count": 12,
   "metadata": {},
   "outputs": [
    {
     "name": "stdout",
     "output_type": "stream",
     "text": [
      "course is mat251\n",
      "12\n",
      "course is csc219\n",
      "12\n",
      "course is csc205\n",
      "12\n",
      "course is csc215\n",
      "6\n",
      "course is csc224\n",
      "12\n",
      "course is csc229\n",
      "10\n",
      "course is csc221\n",
      "12\n",
      "Unit course is 22\n",
      "Total point acquired is 76\n",
      "Your cgpa is 3.45\n"
     ]
    }
   ],
   "source": [
    "course = input(\"enter your course\")\n",
    "print(\"course is \" +course)\n",
    "\n",
    "unit = input()\n",
    "point = input()\n",
    "int_unit = int(unit)\n",
    "int_point = int(point)\n",
    "a = int_unit * int_point\n",
    "\n",
    "print(a)\n",
    "###########\n",
    "course2 = input(\"enter your course\")\n",
    "print(\"course is \" +course2)\n",
    "\n",
    "unit2 = input()\n",
    "point2 = input()\n",
    "int_unit2 = int(unit2)\n",
    "int_point2 = int(point2)\n",
    "b = int_unit2 * int_point2\n",
    "print(b)\n",
    "\n",
    "##########\n",
    "course3 = input(\"enter your course\")\n",
    "print(\"course is \" +course3)\n",
    "\n",
    "unit3 = input()\n",
    "point3 = input()\n",
    "int_unit3 = int(unit3)\n",
    "int_point3 = int(point3)\n",
    "c = int_unit3 * int_point3\n",
    "print(c)\n",
    "\n",
    "##########\n",
    "course4 = input(\"enter your course\")\n",
    "print(\"course is \" +course4)\n",
    "\n",
    "unit4 = input()\n",
    "point4 = input()\n",
    "int_unit4 = int(unit4)\n",
    "int_point4 = int(point4)\n",
    "d = int_unit4 * int_point4\n",
    "print(d)\n",
    "\n",
    "##########\n",
    "course5 = input(\"enter your course\")\n",
    "print(\"course is \" +course5)\n",
    "\n",
    "unit5 = input()\n",
    "point5 = input()\n",
    "int_unit5 = int(unit5)\n",
    "int_point5 = int(point5)\n",
    "e = int_unit5 * int_point5\n",
    "print(e)\n",
    "\n",
    "##########\n",
    "course6 = input(\"enter your course\")\n",
    "print(\"course is \" +course6)\n",
    "\n",
    "unit6 = input()\n",
    "point6 = input()\n",
    "int_unit6 = int(unit6)\n",
    "int_point6 = int(point6)\n",
    "f = int_unit6 * int_point6\n",
    "print(f)\n",
    "\n",
    "##########\n",
    "course7 = input(\"enter your course\")\n",
    "print(\"course is \" +course7)\n",
    "\n",
    "unit7 = input()\n",
    "point7 = input()\n",
    "int_unit7 = int(unit7)\n",
    "int_point7 = int(point7)\n",
    "g = int_unit7 * int_point7\n",
    "print(g)\n",
    "\n",
    "import math\n",
    "TNU = int_unit + int_unit2 + int_unit3 + int_unit4 + int_unit5 + int_unit6 + int_unit7\n",
    "txt = \"Unit course is {}\"\n",
    "\n",
    "print (txt.format(TNU))\n",
    "\n",
    "TCP = a + b + c + d + e + f +g\n",
    "txt = \"Total point acquired is {}\"\n",
    "\n",
    "print (txt.format(TCP))\n",
    "\n",
    "GP = TCP/TNU\n",
    "txt = \"Your cgpa is {}\"\n",
    "\n",
    "print (txt.format(round(GP,2)))"
   ]
  },
  {
   "cell_type": "code",
   "execution_count": 2,
   "metadata": {},
   "outputs": [
    {
     "name": "stdout",
     "output_type": "stream",
     "text": [
      "Hello...You can check your account balance here..\n",
      "\n",
      " Amount deposited is  0.0\n",
      "You withdrew  30000.0\n",
      "New balance is  20000.0\n"
     ]
    }
   ],
   "source": [
    "class bank:\n",
    "    def __init__(self,balance):\n",
    "        self.balance = balance\n",
    "        print(\"Hello...You can check your account balance here..\")\n",
    "    def deposit(self):\n",
    "        amount = float(input(\"Enter amount deposited\"))\n",
    "        self.balance += amount\n",
    "        print(\"\\n Amount deposited is \",amount)\n",
    "\n",
    "    def withdraw(self):\n",
    "        amount = float(input(\"Enter amount withdrawn\"))\n",
    "        if self.balance >= amount:\n",
    "            self.balance -= amount\n",
    "            print(\"You withdrew \",amount)\n",
    "        else:\n",
    "            print(\"Insufficient Amount\")\n",
    "    def display(self):\n",
    "        print(\"New balance is \",self.balance)\n",
    "s = bank(float(input('Enter your account balance')))\n",
    "s.deposit()\n",
    "s.withdraw()\n",
    "s.display()"
   ]
  },
  {
   "cell_type": "code",
   "execution_count": 3,
   "metadata": {},
   "outputs": [
    {
     "name": "stdout",
     "output_type": "stream",
     "text": [
      "Welcome to youngdev account balance checker\n",
      "Insufficient funds in your account\n",
      "New balance is  10000.0\n"
     ]
    }
   ],
   "source": [
    "class bank:\n",
    "    def __init__(self,balance):\n",
    "        self.balance = balance\n",
    "    print('Welcome to youngdev account balance checker')\n",
    "    def deposit(self):\n",
    "        amount = float(input('Enter amount deposited'))\n",
    "        self.balance += amount\n",
    "\n",
    "    def withdraw(self):\n",
    "        amount = float(input('Enter amount withdrawn'))\n",
    "        if self.balance > amount:\n",
    "            self.balance -= amount\n",
    "        else:\n",
    "            print('Insufficient funds in your account')\n",
    "        \n",
    "    def display(self):\n",
    "        print('New balance is ',self.balance)\n",
    "\n",
    "p1 = bank(float(input('Enter your account balance')))\n",
    "p1.deposit()\n",
    "p1.withdraw()\n",
    "p1.display()"
   ]
  },
  {
   "cell_type": "markdown",
   "metadata": {},
   "source": [
    "# QUADRATIC EQUATION"
   ]
  },
  {
   "cell_type": "code",
   "execution_count": 5,
   "metadata": {},
   "outputs": [
    {
     "ename": "ValueError",
     "evalue": "invalid literal for int() with base 10: ''",
     "output_type": "error",
     "traceback": [
      "\u001b[1;31m---------------------------------------------------------------------------\u001b[0m",
      "\u001b[1;31mValueError\u001b[0m                                Traceback (most recent call last)",
      "\u001b[1;32m<ipython-input-5-1797fa92f950>\u001b[0m in \u001b[0;36m<module>\u001b[1;34m\u001b[0m\n\u001b[0;32m      2\u001b[0m \u001b[0ma\u001b[0m \u001b[1;33m=\u001b[0m \u001b[0mint\u001b[0m\u001b[1;33m(\u001b[0m\u001b[0minput\u001b[0m\u001b[1;33m(\u001b[0m\u001b[1;34m\"input a number\"\u001b[0m\u001b[1;33m)\u001b[0m\u001b[1;33m)\u001b[0m\u001b[1;33m\u001b[0m\u001b[1;33m\u001b[0m\u001b[0m\n\u001b[0;32m      3\u001b[0m \u001b[0mb\u001b[0m \u001b[1;33m=\u001b[0m \u001b[0mint\u001b[0m\u001b[1;33m(\u001b[0m\u001b[0minput\u001b[0m\u001b[1;33m(\u001b[0m\u001b[1;34m\"input another number\"\u001b[0m\u001b[1;33m)\u001b[0m\u001b[1;33m)\u001b[0m\u001b[1;33m\u001b[0m\u001b[1;33m\u001b[0m\u001b[0m\n\u001b[1;32m----> 4\u001b[1;33m \u001b[0mc\u001b[0m \u001b[1;33m=\u001b[0m \u001b[0mint\u001b[0m\u001b[1;33m(\u001b[0m\u001b[0minput\u001b[0m\u001b[1;33m(\u001b[0m\u001b[1;34m\"input the third number\"\u001b[0m\u001b[1;33m)\u001b[0m\u001b[1;33m)\u001b[0m\u001b[1;33m\u001b[0m\u001b[1;33m\u001b[0m\u001b[0m\n\u001b[0m\u001b[0;32m      5\u001b[0m \u001b[1;33m\u001b[0m\u001b[0m\n\u001b[0;32m      6\u001b[0m \u001b[1;31m#formula\u001b[0m\u001b[1;33m\u001b[0m\u001b[1;33m\u001b[0m\u001b[1;33m\u001b[0m\u001b[0m\n",
      "\u001b[1;31mValueError\u001b[0m: invalid literal for int() with base 10: ''"
     ]
    }
   ],
   "source": [
    "import math\n",
    "a = int(input(\"input a number\"))\n",
    "b = int(input(\"input another number\"))\n",
    "c = int(input(\"input the third number\"))\n",
    "\n",
    "#formula\n",
    "d = pow(b,2)\n",
    "e = 4 * a * c\n",
    "f = d - e\n",
    "g = math.sqrt(f)\n",
    "sol1 = (-b + g)/(2 * a)\n",
    "sol2 = (-b - g)/(2 * a)\n",
    "print('x =',math.ceil(sol1))\n",
    "print('x =',math.ceil(sol2))"
   ]
  },
  {
   "cell_type": "code",
   "execution_count": 5,
   "metadata": {},
   "outputs": [
    {
     "name": "stdout",
     "output_type": "stream",
     "text": [
      "1\n",
      "-3\n"
     ]
    }
   ],
   "source": [
    "import math\n",
    "a = int(input(\"input a number\"))\n",
    "b = int(input(\"input another number\"))\n",
    "c = int(input(\"input the third number\"))\n",
    "\n",
    "form = (-b + math.sqrt(pow(b,2) - 4 * a * c))/(2 * a)\n",
    "form2 = (-b - math.sqrt(pow(b,2) - 4 * a * c))/(2 * a)\n",
    "print(math.ceil(form))\n",
    "print(math.ceil(form2))"
   ]
  },
  {
   "cell_type": "markdown",
   "metadata": {},
   "source": [
    "# GRADING SYSTEM"
   ]
  },
  {
   "cell_type": "code",
   "execution_count": 8,
   "metadata": {},
   "outputs": [
    {
     "name": "stdout",
     "output_type": "stream",
     "text": [
      "course is csc221\n",
      "8\n",
      "course is csc213\n",
      "8\n",
      "course is csc251\n",
      "15\n",
      "course is csc229\n",
      "10\n",
      "course is csc205\n",
      "8\n",
      "course is mat251\n",
      "12\n",
      "course is csc217\n",
      "8\n",
      "Unit course is 16\n",
      "Total point acquired is 69\n",
      "Your cgpa is 4.31\n",
      "Second Class Upper Good Standing\n"
     ]
    }
   ],
   "source": [
    "def func():\n",
    "        course = input(\"enter your course\")\n",
    "        print(\"course is \" +course)\n",
    "\n",
    "        unit = input()\n",
    "        point = input()\n",
    "        int_unit = int(unit)\n",
    "        int_point = int(point)\n",
    "        a = int_unit * int_point\n",
    "\n",
    "        print(a)\n",
    "        ###########\n",
    "        course2 = input(\"enter your course\")\n",
    "        print(\"course is \" +course2)\n",
    "\n",
    "        unit2 = input()\n",
    "        point2 = input()\n",
    "        int_unit2 = int(unit2)\n",
    "        int_point2 = int(point2)\n",
    "        b = int_unit2 * int_point2\n",
    "        print(b)\n",
    "\n",
    "        ##########\n",
    "        course3 = input(\"enter your course\")\n",
    "        print(\"course is \" +course3)\n",
    "\n",
    "        unit3 = input()\n",
    "        point3 = input()\n",
    "        int_unit3 = int(unit3)\n",
    "        int_point3 = int(point3)\n",
    "        c = int_unit3 * int_point3\n",
    "        print(c)\n",
    "\n",
    "        ##########\n",
    "        course4 = input(\"enter your course\")\n",
    "        print(\"course is \" +course4)\n",
    "\n",
    "        unit4 = input()\n",
    "        point4 = input()\n",
    "        int_unit4 = int(unit4)\n",
    "        int_point4 = int(point4)\n",
    "        d = int_unit4 * int_point4\n",
    "        print(d)\n",
    "\n",
    "        ##########\n",
    "        course5 = input(\"enter your course\")\n",
    "        print(\"course is \" +course5)\n",
    "\n",
    "        unit5 = input()\n",
    "        point5 = input()\n",
    "        int_unit5 = int(unit5)\n",
    "        int_point5 = int(point5)\n",
    "        e = int_unit5 * int_point5\n",
    "        print(e)\n",
    "\n",
    "        ##########\n",
    "        course6 = input(\"enter your course\")\n",
    "        print(\"course is \" +course6)\n",
    "\n",
    "        unit6 = input()\n",
    "        point6 = input()\n",
    "        int_unit6 = int(unit6)\n",
    "        int_point6 = int(point6)\n",
    "        f = int_unit6 * int_point6\n",
    "        print(f)\n",
    "\n",
    "        ##########\n",
    "        course7 = input(\"enter your course\")\n",
    "        print(\"course is \" +course7)\n",
    "\n",
    "        unit7 = input()\n",
    "        point7 = input()\n",
    "        int_unit7 = int(unit7)\n",
    "        int_point7 = int(point7)\n",
    "        g = int_unit7 * int_point7\n",
    "        print(g)\n",
    "\n",
    "        import math\n",
    "        TNU = int_unit + int_unit2 + int_unit3 + int_unit4 + int_unit5 + int_unit6 + int_unit7\n",
    "        txt = \"Unit course is {}\"\n",
    "\n",
    "        print (txt.format(TNU))\n",
    "\n",
    "        TCP = a + b + c + d + e + f +g\n",
    "        txt = \"Total point acquired is {}\"\n",
    "\n",
    "        print (txt.format(TCP))\n",
    "\n",
    "        GP = TCP/TNU\n",
    "        txt = \"Your cgpa is {}\"\n",
    "\n",
    "        print (txt.format(round(GP,2)))\n",
    "\n",
    "        if GP >= 4.5 and GP <= 5.0 :\n",
    "            result = \"First Class\"\n",
    "            print(result,\"Good Standing\")\n",
    "        elif GP >= 3.5 and GP <= 4.49:\n",
    "            result = \"Second Class Upper\"\n",
    "            print(result,\"Good Standing\")\n",
    "        elif GP >= 2.40 and GP <= 3.49:\n",
    "            result = \"Second Class Lower\"\n",
    "            print(result,\"Fair\")\n",
    "        elif GP >= 1.50 and GP <= 2.49:\n",
    "            result = \"Third Class\"\n",
    "            print(result,\"Fair\")\n",
    "        elif GP >= 1.00 and GP <= 1.49:\n",
    "            result = \"Pass\"\n",
    "            print(result,\"Poor Standing\")\n",
    "        else:\n",
    "            result = \"Fail\"\n",
    "            print(result,\"Hereby withdrawn from school\")\n",
    "\n",
    "func()"
   ]
  },
  {
   "cell_type": "code",
   "execution_count": 9,
   "metadata": {},
   "outputs": [],
   "source": [
    "func()"
   ]
  },
  {
   "cell_type": "markdown",
   "metadata": {},
   "source": [
    "# INVOICE"
   ]
  },
  {
   "cell_type": "code",
   "execution_count": 1,
   "metadata": {},
   "outputs": [
    {
     "name": "stdout",
     "output_type": "stream",
     "text": [
      "**************************************************\n",
      "\t\tYoungdev Ltd\n",
      "\t\tIba New Site,Lagos\n",
      "\t\tLagos\n",
      "**************************************************\n",
      "\tProduct Name\tProduct price\n",
      "\tPhone\t\t#100000\n",
      "\tLaptop\t\t#200000\n",
      "==================================================\n",
      "\t\t\tTotal\n",
      "\t\t\t#300000\n",
      "==================================================\n",
      "\n",
      "\tThanks for shopping with us\n",
      "\n"
     ]
    }
   ],
   "source": [
    "pro1_name, pro1_price = input('Enter goods bought') , int(input('Enter price'))\n",
    "pro2_name, pro2_price = input('Enter goods bought'), int(input('Enter price'))\n",
    "\n",
    "company = 'YoungDev ltd'\n",
    "address = 'Iba new site,Lagos'\n",
    "city = 'Lagos'\n",
    "\n",
    "message = 'Thanks for shopping with us'\n",
    "# create a top border\n",
    "print('*' * 50)\n",
    "\n",
    "print('\\t\\t{}'.format(company.title()))\n",
    "print('\\t\\t{}'.format(address.title()))\n",
    "print('\\t\\t{}'.format(city.title()))\n",
    "\n",
    "print('*' * 50)\n",
    "\n",
    "print('\\tProduct Name\\tProduct price')\n",
    "\n",
    "print('\\t{}\\t\\t#{}'.format(pro1_name.title(), pro1_price))\n",
    "print('\\t{}\\t\\t#{}'.format(pro2_name.title(), pro2_price))\n",
    "\n",
    "print('=' * 50)\n",
    "print('\\t\\t\\tTotal')\n",
    "total = pro1_price + pro2_price\n",
    "print('\\t\\t\\t#{}'.format(total))\n",
    "print('=' * 50)\n",
    "\n",
    "print('\\n\\t{}\\n'.format(message))"
   ]
  },
  {
   "cell_type": "code",
   "execution_count": 5,
   "metadata": {},
   "outputs": [
    {
     "name": "stdout",
     "output_type": "stream",
     "text": [
      "mouse\n",
      "laptop\n"
     ]
    }
   ],
   "source": [
    "x = int(input('enter number')) \n",
    "\n",
    "for gd in range(x):\n",
    "    gd = input('Enter goods bought') \n",
    "    print(gd)"
   ]
  },
  {
   "cell_type": "markdown",
   "metadata": {},
   "source": [
    "# Admission into LAW"
   ]
  },
  {
   "cell_type": "code",
   "execution_count": 33,
   "metadata": {},
   "outputs": [
    {
     "name": "stdout",
     "output_type": "stream",
     "text": [
      "Your JAMB score is 300\n",
      "Percentage acquired from JAMB is 38%\n"
     ]
    }
   ],
   "source": [
    "# check for jamb score and divide by 8 to give 50% out of 100%\n",
    "import math\n",
    "\n",
    "jamb = int(input(\"Input jamb score\"))\n",
    "Jscore = jamb/8\n",
    "text = \"Your JAMB score is {}\"\n",
    "txt = \"Percentage acquired from JAMB is {}%\"\n",
    "print(text.format(jamb))\n",
    "print(txt.format(math.ceil(Jscore)))\n",
    "\n",
    " "
   ]
  },
  {
   "cell_type": "code",
   "execution_count": 25,
   "metadata": {},
   "outputs": [
    {
     "name": "stdout",
     "output_type": "stream",
     "text": [
      "**************************************************\n",
      "\t\tWaec Examination Result\n",
      "\t\t2022\n",
      "\t\tLagos\n",
      "**************************************************\n",
      "\t\tSubject\t\tScore\t\tGrade\n",
      "\t\tchem\t\t79\t\tB2\n",
      "\t\tmath\t\t80\t\tA1\n",
      "\t\tphy\t\t89\t\tA1\n",
      "\t\teng\t\t89\t\tA1\n",
      "\t\tbio\t\t90\t\tA1\n"
     ]
    }
   ],
   "source": [
    "# waec result\n",
    "# We are recording 5 relevant subjects with the scores and grades\n",
    "# First Subject\n",
    "import datetime\n",
    "\n",
    "company = 'WAEC EXAMINATION RESULT'\n",
    "year = datetime.datetime.now()\n",
    "city = 'Lagos'\n",
    "\n",
    "# create a top border\n",
    "print('*' * 50)\n",
    "\n",
    "print('\\t\\t{}'.format(company.title()))\n",
    "print('\\t\\t{}'.format(year.year))\n",
    "print('\\t\\t{}'.format(city.title()))\n",
    "\n",
    "print('*' * 50)\n",
    "\n",
    "print('\\t\\tSubject\\t\\tScore\\t\\tGrade')\n",
    "subj = input(\"Input subject\")\n",
    "score = int(input(\"Enter score\"))\n",
    "def sub():\n",
    "    if score >= 80 and score <= 100:\n",
    "        grade = \"A1\"\n",
    "    elif score >= 70 and score <= 79:\n",
    "        grade = \"B2\"\n",
    "    elif score >= 65 and score <= 69:\n",
    "        grade = \"B3\"\n",
    "    elif score >= 60 and score <= 64:\n",
    "        grade = \"C4\"\n",
    "    elif score >= 55 and score <= 59:\n",
    "        grade = \"C5\"\n",
    "    elif score >= 50 and score <= 54:\n",
    "        grade = \"C6\"\n",
    "    elif score >= 45 and score <= 49:\n",
    "        grade = \"D7\"\n",
    "    elif score >= 40 and score <= 44:\n",
    "        grade = \"E8\"\n",
    "    elif score >= 0 and score <= 39:\n",
    "        grade = \"F9\"\n",
    "    else:\n",
    "        print (\"Result not found\")\n",
    "    print('\\t\\t{}\\t\\t{}\\t\\t{}'.format(subj,score,grade))\n",
    "sub()\n",
    "\n",
    "# Second Subject\n",
    "subj2 = input(\"Input subject\")\n",
    "score2 = int(input(\"Enter score\"))\n",
    "def subject():\n",
    "    if score2 >= 80 and score2 <= 100:\n",
    "        grade2 = \"A1\"\n",
    "    elif score2 >= 70 and score2 <= 79:\n",
    "        grade2 = \"B2\"\n",
    "    elif score2 >= 65 and score2 <= 69:\n",
    "        grade2 = \"B3\"\n",
    "    elif score2 >= 60 and score2 <= 64:\n",
    "        grade2 = \"C4\"\n",
    "    elif score2 >= 55 and score2 <= 59:\n",
    "        grade2 = \"C5\"\n",
    "    elif score2 >= 50 and score2 <= 54:\n",
    "        grade2 = \"C6\"\n",
    "    elif score2 >= 45 and score2 <= 49:\n",
    "        grade2 = \"D7\"\n",
    "    elif score2 >= 40 and score2 <= 44:\n",
    "        grade2 = \"E8\"\n",
    "    elif score2 >= 0 and score2 <= 39:\n",
    "        grade2 = \"F9\"\n",
    "    else:\n",
    "        print (\"Result not found\")\n",
    "    print('\\t\\t{}\\t\\t{}\\t\\t{}'.format(subj2,score2,grade2))\n",
    "subject()\n",
    "\n",
    "# Third Subject\n",
    "subj3 = input(\"Input subject\")\n",
    "score3 = int(input(\"Enter score\"))\n",
    "def subject3():\n",
    "    if score3 >= 80 and score3 <= 100:\n",
    "        grade3 = \"A1\"\n",
    "    elif score3 >= 70 and score3 <= 79:\n",
    "        grade3 = \"B2\"\n",
    "    elif score3 >= 65 and score3 <= 69:\n",
    "        grade3 = \"B3\"\n",
    "    elif score3 >= 60 and score3 <= 64:\n",
    "        grade3 = \"C4\"\n",
    "    elif score3 >= 55 and score3 <= 59:\n",
    "        grade3 = \"C5\"\n",
    "    elif score3 >= 50 and score3 <= 54:\n",
    "        grade3 = \"C6\"\n",
    "    elif score3 >= 45 and score3 <= 49:\n",
    "        grade3 = \"D7\"\n",
    "    elif score3 >= 40 and score3 <= 44:\n",
    "        grade3 = \"E8\"\n",
    "    elif score3 >= 0 and score3 <= 39:\n",
    "        grade3 = \"F9\"\n",
    "    else:\n",
    "        print (\"Result not found\")\n",
    "    print('\\t\\t{}\\t\\t{}\\t\\t{}'.format(subj3,score3,grade3))\n",
    "subject3()\n",
    "\n",
    "# Fourth Subject\n",
    "subj4 = input(\"Input subject\")\n",
    "score4 = int(input(\"Enter score\"))\n",
    "def subject4():\n",
    "    if score4 >= 80 and score4 <= 100:\n",
    "        grade4 = \"A1\"\n",
    "    elif score4 >= 70 and score4 <= 79:\n",
    "        grade4 = \"B2\"\n",
    "    elif score4 >= 65 and score4 <= 69:\n",
    "        grade4 = \"B3\"\n",
    "    elif score4 >= 60 and score4 <= 64:\n",
    "        grade4 = \"C4\"\n",
    "    elif score4 >= 55 and score4 <= 59:\n",
    "        grade4 = \"C5\"\n",
    "    elif score4 >= 50 and score4 <= 54:\n",
    "        grade4 = \"C6\"\n",
    "    elif score4 >= 45 and score4 <= 49:\n",
    "        grade4 = \"D7\"\n",
    "    elif score4 >= 40 and score4 <= 44:\n",
    "        grade4 = \"E8\"\n",
    "    elif score4 >= 0 and score4 <= 39:\n",
    "        grade4 = \"F9\"\n",
    "    else:\n",
    "        print (\"Result not found\")\n",
    "    print('\\t\\t{}\\t\\t{}\\t\\t{}'.format(subj4,score4,grade4))\n",
    "subject4()\n",
    "\n",
    "# Fifth Subject\n",
    "subj5 = input(\"Input subject\")\n",
    "score5 = int(input(\"Enter score\"))\n",
    "def subject5():\n",
    "    if score5 >= 80 and score5 <= 100:\n",
    "        grade5 = \"A1\"\n",
    "    elif score5 >= 70 and score5 <= 79:\n",
    "        grade5 = \"B2\"\n",
    "    elif score5 >= 65 and score5 <= 69:\n",
    "        grade5 = \"B3\"\n",
    "    elif score5 >= 60 and score5 <= 64:\n",
    "        grade5 = \"C4\"\n",
    "    elif score5 >= 55 and score5 <= 59:\n",
    "        grade5 = \"C5\"\n",
    "    elif score5 >= 50 and score5 <= 54:\n",
    "        grade5 = \"C6\"\n",
    "    elif score5 >= 45 and score5 <= 49:\n",
    "        grade5 = \"D7\"\n",
    "    elif score5 >= 40 and score5 <= 44:\n",
    "        grade5 = \"E8\"\n",
    "    elif score5 >= 0 and score5 <= 39:\n",
    "        grade5 = \"F9\"\n",
    "    else:\n",
    "        print (\"Result not found\")\n",
    "    print('\\t\\t{}\\t\\t{}\\t\\t{}'.format(subj5,score5,grade5))\n",
    "subject5()\n",
    " "
   ]
  },
  {
   "cell_type": "code",
   "execution_count": 41,
   "metadata": {},
   "outputs": [
    {
     "name": "stdout",
     "output_type": "stream",
     "text": [
      "10\n",
      "9\n",
      "9\n",
      "9\n",
      "9\n",
      "Your waec point is 46%\n",
      "Your total score is 83.5%\n"
     ]
    }
   ],
   "source": [
    "mark = score\n",
    "mark2 = score2\n",
    "mark3 = score3\n",
    "mark4 = score4\n",
    "mark5 = score5\n",
    "mark1 = [mark]\n",
    "for items in mark1:\n",
    "    if items >= 80 and items <= 100:\n",
    "        mk = 10\n",
    "    elif items >= 70 and items <= 79:\n",
    "        mk = 9\n",
    "    elif items >= 65 and items <= 69:\n",
    "        mk = 8\n",
    "    elif items >= 60 and items <= 64:\n",
    "        mk = 7\n",
    "    elif items >= 55 and items <= 59:\n",
    "        mk = 6\n",
    "    elif items >= 50 and items <= 54:\n",
    "        mk = 5\n",
    "    elif items >= 45 and items <= 49:\n",
    "        mk = 2\n",
    "    elif items >= 40 and items <= 44:\n",
    "        mk = 1\n",
    "    else:\n",
    "        mk = 0\n",
    "    print(mk)\n",
    "\n",
    "mark2 = [mark2]\n",
    "for items in mark2:\n",
    "    if items >= 80 and items <= 100:\n",
    "        mk2 = 10\n",
    "    elif items >= 70 and items <= 79:\n",
    "        mk2 = 9\n",
    "    elif items >= 65 and items <= 69:\n",
    "        mk2 = 8\n",
    "    elif items >= 60 and items <= 64:\n",
    "        mk2 = 7\n",
    "    elif items >= 55 and items <= 59:\n",
    "        mk2 = 6\n",
    "    elif items >= 50 and items <= 54:\n",
    "        mk2 = 5\n",
    "    elif items >= 45 and items <= 49:\n",
    "        mk2 = 2\n",
    "    elif items >= 40 and items <= 44:\n",
    "        mk2 = 1\n",
    "    else:\n",
    "        mk2 = 0\n",
    "    print(mk2)\n",
    "\n",
    "mark3 = [mark3]\n",
    "for items in mark3:\n",
    "    if items >= 80 and items <= 100:\n",
    "        mk3 = 10\n",
    "    elif items >= 70 and items <= 79:\n",
    "        mk3 = 9\n",
    "    elif items >= 65 and items <= 69:\n",
    "        mk3 = 8\n",
    "    elif items >= 60 and items <= 64:\n",
    "        mk3 = 7\n",
    "    elif items >= 55 and items <= 59:\n",
    "        mk3 = 6\n",
    "    elif items >= 50 and items <= 54:\n",
    "        mk3 = 5\n",
    "    elif items >= 45 and items <= 49:\n",
    "        mk3 = 2\n",
    "    elif items >= 40 and items <= 44:\n",
    "        mk3 = 1\n",
    "    else:\n",
    "        mk3 = 0\n",
    "    print(mk3)\n",
    "\n",
    "mark4 = [mark4]\n",
    "for items in mark2:\n",
    "    if items >= 80 and items <= 100:\n",
    "        mk4 = 10\n",
    "    elif items >= 70 and items <= 79:\n",
    "        mk4 = 9\n",
    "    elif items >= 65 and items <= 69:\n",
    "        mk4 = 8\n",
    "    elif items >= 60 and items <= 64:\n",
    "        mk4 = 7\n",
    "    elif items >= 55 and items <= 59:\n",
    "        mk4 = 6\n",
    "    elif items >= 50 and items <= 54:\n",
    "        mk4 = 5\n",
    "    elif items >= 45 and items <= 49:\n",
    "        mk4 = 2\n",
    "    elif items >= 40 and items <= 44:\n",
    "        mk4 = 1\n",
    "    else:\n",
    "        mk4 = 0\n",
    "    print(mk4)\n",
    "\n",
    "mark5 = [mark5]\n",
    "for items in mark2:\n",
    "    if items >= 80 and items <= 100:\n",
    "        mk5 = 10\n",
    "    elif items >= 70 and items <= 79:\n",
    "        mk5 = 9\n",
    "    elif items >= 65 and items <= 69:\n",
    "        mk5 = 8\n",
    "    elif items >= 60 and items <= 64:\n",
    "        mk5 = 7\n",
    "    elif items >= 55 and items <= 59:\n",
    "        mk5 = 6\n",
    "    elif items >= 50 and items <= 54:\n",
    "        mk5 = 5\n",
    "    elif items >= 45 and items <= 49:\n",
    "        mk5 = 2\n",
    "    elif items >= 40 and items <= 44:\n",
    "        mk5 = 1\n",
    "    else:\n",
    "        mk5 = 0\n",
    "    print(mk5)\n",
    "\n",
    "wpts = mk + mk2 + mk3 + mk4 + mk5\n",
    "res = \"Your waec point is {}%\"\n",
    "print(res.format(wpts))\n",
    "\n",
    "# Total point will be derived from the sum of the jamb score and the points gathered in waec\n",
    "total = Jscore + wpts\n",
    "reply = \"Your total score is {}%\"\n",
    "print(reply.format(total))"
   ]
  },
  {
   "cell_type": "code",
   "execution_count": 44,
   "metadata": {},
   "outputs": [
    {
     "name": "stdout",
     "output_type": "stream",
     "text": [
      "Congratulations,You are hereby admitted to study Computer Science in LASU....\n"
     ]
    }
   ],
   "source": [
    "def admission():\n",
    "    if total >= 65:\n",
    "        print(\"Congratulations,You are hereby admitted to study Computer Science in LASU....\")\n",
    "    else:\n",
    "        print(\"No admission...\")\n",
    "admission()"
   ]
  },
  {
   "cell_type": "markdown",
   "metadata": {},
   "source": [
    "# CONVERT CELCIUS TO FAHRENHEIT"
   ]
  },
  {
   "cell_type": "code",
   "execution_count": 7,
   "metadata": {},
   "outputs": [
    {
     "name": "stdout",
     "output_type": "stream",
     "text": [
      "100 degree celcius is equivalent to 212.0 degree fahrenheit\n"
     ]
    }
   ],
   "source": [
    "celcius = int(input(\"Enter your celcius value\"))\n",
    "def func():\n",
    "    fahr = (celcius * 9)/5 + 32\n",
    "    print(celcius,\"degree celcius is equivalent to\",fahr,\"degree fahrenheit\")\n",
    "func() "
   ]
  },
  {
   "cell_type": "code",
   "execution_count": 10,
   "metadata": {},
   "outputs": [
    {
     "name": "stdout",
     "output_type": "stream",
     "text": [
      "212 degree fahrenheit is equivalent to 100.0 degree celcius\n"
     ]
    }
   ],
   "source": [
    "fahr = int(input(\"Enter your celcius value\"))\n",
    "def func():\n",
    "    celcius = (fahr - 32) * 5/9\n",
    "    print(fahr,\"degree fahrenheit is equivalent to\",celcius,\"degree celcius\")\n",
    "func() "
   ]
  },
  {
   "cell_type": "markdown",
   "metadata": {},
   "source": [
    "# AREA OF A CIRCLE"
   ]
  },
  {
   "cell_type": "code",
   "execution_count": 15,
   "metadata": {},
   "outputs": [
    {
     "name": "stdout",
     "output_type": "stream",
     "text": [
      "The radius of the circle is 2 ,therefore the area of the circle = 12.57\n"
     ]
    }
   ],
   "source": [
    "import math\n",
    "r = int(input(\"Enter radius of the circle\"))\n",
    "area = math.pi * pow(r,2)\n",
    "print(\"The radius of the circle is\",r, \",therefore the area of the circle =\",round(area,2))"
   ]
  },
  {
   "cell_type": "markdown",
   "metadata": {},
   "source": [
    "# PERIMETER OF FOUR SIDED SHAPES"
   ]
  },
  {
   "cell_type": "code",
   "execution_count": 19,
   "metadata": {},
   "outputs": [
    {
     "name": "stdout",
     "output_type": "stream",
     "text": [
      "The length of the square is 5 therefore the perimeter of the square = 20\n",
      "The length of the rectangle is 4 therefore the perimeter of the rectangle = 12\n"
     ]
    }
   ],
   "source": [
    "# For square\n",
    "l = int(input(\"input length of square\"))\n",
    "perimeter = 4 * l\n",
    "print(\"The length of the square is\",l,\"therefore the perimeter of the square =\",perimeter)\n",
    "# For rectangle\n",
    "l = int(input(\"input length of rectangle\"))\n",
    "b = int(input(\"input breadth of rectangle\"))\n",
    "peri = (2 * l) + (2 * b)\n",
    "print(\"The length of the rectangle is\",l,\"therefore the perimeter of the rectangle =\",peri)"
   ]
  },
  {
   "cell_type": "code",
   "execution_count": 30,
   "metadata": {},
   "outputs": [
    {
     "name": "stdout",
     "output_type": "stream",
     "text": [
      "['kite']\n",
      "The length of the rectangle is 3 therefore the perimeter of the rectangle = 16\n"
     ]
    }
   ],
   "source": [
    "def function():\n",
    "    shape = input(\"Enter a four sided shape like square,rectangle,rhombus or kite\")\n",
    "    shapes = []\n",
    "    shapes.append(shape)\n",
    "    print(shapes)\n",
    "    for x in shapes:\n",
    "        if x == 'square' or x == 'rhombus':\n",
    "            l = int(input(\"input length of square\"))\n",
    "            perimeter = 4 * l\n",
    "            print(\"The length of the square is\",l,\"therefore the perimeter of the square =\",perimeter)\n",
    "        elif x == 'rectangle' or x == 'kite':\n",
    "            l = int(input(\"input length of rectangle\"))\n",
    "            b = int(input(\"input breadth of rectangle\"))\n",
    "            peri = 2 * (l + b)\n",
    "            print(\"The length of the rectangle is\",l,\"therefore the perimeter of the rectangle =\",peri)\n",
    "        else:\n",
    "            print(\"Invalid\")\n",
    "function()"
   ]
  },
  {
   "cell_type": "markdown",
   "metadata": {},
   "source": [
    "# VOLUME OF A CYLINDER"
   ]
  },
  {
   "cell_type": "code",
   "execution_count": 32,
   "metadata": {},
   "outputs": [
    {
     "name": "stdout",
     "output_type": "stream",
     "text": [
      "392.7\n"
     ]
    }
   ],
   "source": [
    "import math\n",
    "d = int(input(\"Enter the diameter\"))\n",
    "h = int(input(\"input height\"))\n",
    "r = d/2\n",
    "v = math.pi * pow(r,2) * h\n",
    "print(round(v,2))\n"
   ]
  },
  {
   "cell_type": "code",
   "execution_count": 1,
   "metadata": {},
   "outputs": [
    {
     "name": "stdout",
     "output_type": "stream",
     "text": [
      "New balance is  20000.0\n"
     ]
    }
   ],
   "source": [
    "class bank():\n",
    "    def __init__(self,balance):\n",
    "        self.balance = balance\n",
    "    def deposit(self):\n",
    "        amount = float(input('Enter amount deposited'))\n",
    "    def withdraw(self):\n",
    "        amount = float(input('Enter amount withdrawn'))\n",
    "        if self.balance > amount:\n",
    "            self.balance -= amount\n",
    "        else:\n",
    "            print('Insufficient funds....')\n",
    "     \n",
    "    def display(self):\n",
    "        print('New balance is ',self.balance)\n",
    "        \n",
    "p1 = bank(float(input('Enter account balance')))\n",
    "p1.deposit()\n",
    "p1.withdraw()\n",
    "p1.display()"
   ]
  },
  {
   "cell_type": "code",
   "execution_count": null,
   "metadata": {},
   "outputs": [],
   "source": []
  }
 ],
 "metadata": {
  "interpreter": {
   "hash": "37eb40c3388cfde35488e2d005b0d69ca91ddeff8a429754d4da636d3f888e5e"
  },
  "kernelspec": {
   "display_name": "Python 3.8.5 64-bit ('base': conda)",
   "name": "python3"
  },
  "language_info": {
   "codemirror_mode": {
    "name": "ipython",
    "version": 3
   },
   "file_extension": ".py",
   "mimetype": "text/x-python",
   "name": "python",
   "nbconvert_exporter": "python",
   "pygments_lexer": "ipython3",
   "version": "3.8.5"
  },
  "orig_nbformat": 4
 },
 "nbformat": 4,
 "nbformat_minor": 2
}
